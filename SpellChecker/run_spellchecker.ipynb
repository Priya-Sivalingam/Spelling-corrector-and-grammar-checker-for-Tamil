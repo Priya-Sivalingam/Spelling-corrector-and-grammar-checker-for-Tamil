{
 "cells": [
  {
   "cell_type": "code",
   "execution_count": 3,
   "metadata": {},
   "outputs": [],
   "source": [
    "\n",
    "from Evaluate_Spell_checker import evaluate_spell_checker\n",
    "from spellchecker import SpellChecker\n"
   ]
  },
  {
   "cell_type": "code",
   "execution_count": 4,
   "metadata": {},
   "outputs": [],
   "source": [
    "\n",
    "# Example usage of the updated SpellChecker class\n",
    "def correct_text(test_sentence, correct_words_file):\n",
    "    # Load the correct words from the provided file\n",
    "    with open(correct_words_file, 'r', encoding='utf-8') as file:\n",
    "        correct_words = [line.strip() for line in file]  # Strip newline characters\n",
    "\n",
    "    # Initialize the SpellChecker object with correct words\n",
    "    spell_checker = SpellChecker(correct_words)\n",
    "\n",
    "    # Correct the test sentence\n",
    "    corrected_text = spell_checker.correct(test_sentence)\n",
    "    return corrected_text"
   ]
  },
  {
   "cell_type": "code",
   "execution_count": null,
   "metadata": {},
   "outputs": [
    {
     "name": "stdout",
     "output_type": "stream",
     "text": [
      "\n",
      "\n",
      "--- Testing Paragraph 1 ---\n",
      "\n",
      "\n",
      "Test Sentence 1: அத நூற்ற கரடமுடான வலிமையான கயறகத் திரக்கலம்\n",
      "Corrected Text: அதை நூற்று கரடுமுரடான வலிமையான கயிறாகத் திரிக்கலாம்\n",
      "\n",
      "--- Evaluation Results ---\n",
      "Accuracy: 0.8333\n",
      "Precision: 0.8333\n",
      "Recall: 1.0000\n",
      "F1-Score: 0.9091\n",
      "\n",
      "Test Sentence 2: தொழில் ரீதியாக சணல் இழை கச்சா சணல் என்றழைக்கப்படுகிறது\n",
      "Corrected Text: தொழில் ரீதியாக சணல் இழை கச்சா சணல் என்றழைக்கப்படுகிறது\n",
      "\n",
      "--- Evaluation Results ---\n",
      "Accuracy: 1.0000\n",
      "Precision: 1.0000\n",
      "Recall: 1.0000\n",
      "F1-Score: 1.0000\n",
      "\n",
      "Test Sentence 3: இழைகள் மங்கிய வெள்ளையிலிருந்து பழுப்பு நிறம் வரையிலும்\n",
      "Corrected Text: இழைகள் மங்கிய வெள்ளையிலிருந்து பழுப்பு நிறம் வரையிலும்\n",
      "\n",
      "--- Evaluation Results ---\n",
      "Accuracy: 1.0000\n",
      "Precision: 1.0000\n",
      "Recall: 1.0000\n",
      "F1-Score: 1.0000\n",
      "\n",
      "Test Sentence 4: சணல இழை ஹெஸ்ஸயன என அழைக்கப்படுகிறது\n",
      "Corrected Text: சில இழை ஹெஸ்ஸியன் என அழைக்கப்படுகிறது\n",
      "\n",
      "--- Evaluation Results ---\n",
      "Accuracy: 0.8000\n",
      "Precision: 0.8000\n",
      "Recall: 1.0000\n",
      "F1-Score: 0.8889\n"
     ]
    }
   ],
   "source": [
    "# File containing the correct words\n",
    "correct_words_file = \"../Data/processed_words.txt\"\n",
    "\n",
    "# Test paragraphs with some incorrect sentences\n",
    "test_paragraphs_list = [\n",
    "    \"அத நூற்ற கரடமுடான வலிமையான கயறகத் திரக்கலம்.தொழில் ரீதியாக சணல் இழை கச்சா சணல் என்றழைக்கப்படுகிறது. இழைகள் மங்கிய வெள்ளையிலிருந்து பழுப்பு நிறம் வரையிலும்.சணல இழை ஹெஸ்ஸயன என அழைக்கப்படுகிறது.\"\n",
    "]\n",
    "\n",
    "# Expected sentences for comparison\n",
    "expected_paragraph = [\n",
    "    \"அதை நூற்று கரடமுரடான வலிமையான கயிறாகத் திரிக்கலாம்.தொழில் ரீதியாக சணல் இழை கச்சா சணல் என்றழைக்கப்படுகிறது. இழைகள் மங்கிய வெள்ளையிலிருந்து பழுப்பு நிறம் வரையிலும்.சணல் இழை ஹெஸ்ஸியன் என அழைக்கப்படுகிறது.\"\n",
    "]\n",
    "\n",
    "# Function to split the text into sentences\n",
    "def split_into_sentences(paragraphs):\n",
    "    return [para.rstrip(\".\").split(\".\") for para in paragraphs]\n",
    "\n",
    "# Split the test and expected paragraphs into sentences\n",
    "test_sentences = split_into_sentences(test_paragraphs_list)\n",
    "expected_sentences = split_into_sentences(expected_paragraph)\n",
    "\n",
    "# Loop through test paragraphs and perform spell/grammar correction\n",
    "for idx, test_sentences_group in enumerate(test_sentences):\n",
    "\n",
    "    for i, sentence in enumerate(test_sentences_group):\n",
    "        print(f\"\\nTest Sentence {i+1}: {sentence.strip()}\")\n",
    "\n",
    "        # Correct the test sentence using the SpellChecker\n",
    "        corrected_text = correct_text(sentence.strip(), correct_words_file)\n",
    "\n",
    "        # Output the corrected text\n",
    "        print(f\"Corrected Text: {corrected_text.strip()}\")\n",
    "\n",
    "        # Evaluate the spell checker against the expected result\n",
    "        print(\"\\n--- Evaluation Results ---\")\n",
    "\n",
    "        # Pass the individual sentences as arguments for evaluation\n",
    "        evaluate_spell_checker(\n",
    "            sentence.strip().split(), \n",
    "            expected_sentences[idx][i].strip().split(), \n",
    "            corrected_text.strip()\n",
    "        )"
   ]
  }
 ],
 "metadata": {
  "kernelspec": {
   "display_name": "Researchenv",
   "language": "python",
   "name": "python3"
  },
  "language_info": {
   "codemirror_mode": {
    "name": "ipython",
    "version": 3
   },
   "file_extension": ".py",
   "mimetype": "text/x-python",
   "name": "python",
   "nbconvert_exporter": "python",
   "pygments_lexer": "ipython3",
   "version": "3.10.13"
  }
 },
 "nbformat": 4,
 "nbformat_minor": 2
}
