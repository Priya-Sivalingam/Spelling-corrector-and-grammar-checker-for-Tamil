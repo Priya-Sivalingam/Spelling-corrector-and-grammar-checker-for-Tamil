{
 "cells": [
  {
   "cell_type": "code",
   "execution_count": 1,
   "metadata": {},
   "outputs": [],
   "source": [
    "\n",
    "from Evaluate_Spell_checker import evaluate_spell_checker\n",
    "from spellchecker import SpellChecker\n"
   ]
  },
  {
   "cell_type": "code",
   "execution_count": 2,
   "metadata": {},
   "outputs": [],
   "source": [
    "\n",
    "# Example usage of the updated SpellChecker class\n",
    "def correct_text(test_sentence, correct_words_file):\n",
    "    # Load the correct words from the provided file\n",
    "    with open(correct_words_file, 'r', encoding='utf-8') as file:\n",
    "        correct_words = [line.strip() for line in file]  # Strip newline characters\n",
    "\n",
    "    # Initialize the SpellChecker object with correct words\n",
    "    spell_checker = SpellChecker(correct_words)\n",
    "\n",
    "    # Correct the test sentence\n",
    "    corrected_text = spell_checker.correct(test_sentence)\n",
    "    return corrected_text"
   ]
  },
  {
   "cell_type": "code",
   "execution_count": 4,
   "metadata": {},
   "outputs": [
    {
     "name": "stdout",
     "output_type": "stream",
     "text": [
      "\n",
      "Test Sentence 1: நம்முடய அன்றட நற்செயலள் கடவுளுக்குப் புகழ் சேர்த்தால், உயரமான இடத்தில் வைக்கப்பட்ட தீபமாக இருப்போம்\n",
      "Corrected Text: நம்முடைய அன்றாட நற்செயல்கள் கடவுளுக்குப் புகழ் சேர்த்தால் உயரமான இடத்தில் வைக்கப்பட்ட தீபமாக இருப்போம்\n",
      "\n",
      "--- Evaluation Results ---\n",
      "Accuracy: 0.9091\n",
      "Precision: 0.9091\n",
      "Recall: 1.0000\n",
      "F1-Score: 0.9524\n",
      "\n",
      "Test Sentence 2: இந ஆக்கத்துடன தொடர்புடைர்கள், உலகவிய பொதுப் பயனபாட்டுக்கு பதிப்புரமைச் சட்டததுக்கு உடட்டு, தங்கள் அனைத்துப பதிப்புரமைகளையும் விடுவித்துள்ளனர்\n",
      "Corrected Text: வர ஆக்கத்துடன் தொடர்புடையவர்கள் உதவி பொதுப் பயன்பாட்டுக்கு பதிப்புரிமைச் சட்டத்துக்கு உட்பட்டு தங்கள் அனைத்துப் பதிப்புரிமைகளையும் வந்துள்ளனர்\n",
      "\n",
      "--- Evaluation Results ---\n",
      "Accuracy: 0.6154\n",
      "Precision: 0.6154\n",
      "Recall: 1.0000\n",
      "F1-Score: 0.7619\n",
      "\n",
      "Test Sentence 3: தமிழ், இந்தி உட்பட இலங்கை, சிங்கப்பூரில பேசப்படும் மொழிகளில் ஒன்ற\n",
      "Corrected Text: தமிழ் இந்த உட்பட இலங்கை சிங்கப்பூரில் பேசப்படும் மொழிகளில் என்ற\n",
      "\n",
      "--- Evaluation Results ---\n",
      "Accuracy: 0.5000\n",
      "Precision: 0.5000\n",
      "Recall: 1.0000\n",
      "F1-Score: 0.6667\n",
      "\n",
      "Test Sentence 4: நிறைவுசெய்பவள என்று மொழிபெயர்க்கப்பட்டிருக்கும் (நீகெத்) என்ற எபிரெய சொல்லைக் குறித்த ஒரு பைபிள புலவர் இவ்வாற விளக்குகிறார்\n",
      "Corrected Text: நிறைவுசெய்பவள் என்று மொழிபெயர்க்கப்பட்டிருக்கும் நீகெத் என்ற எபிரெய சொல்லைக் குறித்து ஒரு பைபிள் புலவர் இவ்வாறு விளக்குகிறார்\n",
      "\n",
      "--- Evaluation Results ---\n",
      "Accuracy: 0.9231\n",
      "Precision: 0.9231\n",
      "Recall: 1.0000\n",
      "F1-Score: 0.9600\n",
      "\n",
      "Test Sentence 5: தமிழ ஒலி சார்ந்த மொழி, அதன் பலமும் பலவீனமும், ஒவ்வொர பிரதேசத தமிழர்களின் உச்சரிப்பு வேறுபடம\n",
      "Corrected Text: தமிழ் ஒலி சார்ந்த மொழி அதன் பலமும் பலவீனமும் ஒவ்வொரு பிரதேசத் தமிழர்களினதும் உச்சரிப்பு வேறுபடும்\n",
      "\n",
      "--- Evaluation Results ---\n",
      "Accuracy: 0.7500\n",
      "Precision: 0.7500\n",
      "Recall: 1.0000\n",
      "F1-Score: 0.8571\n"
     ]
    }
   ],
   "source": [
    "# File containing the correct words\n",
    "correct_words_file = \"../Dataset/processed_words.txt\"\n",
    "\n",
    "# Test paragraphs with some incorrect sentences\n",
    "test_paragraphs_list = [\n",
    "    \"நம்முடய அன்றட நற்செயலள் கடவுளுக்குப் புகழ் சேர்த்தால், உயரமான இடத்தில் வைக்கப்பட்ட தீபமாக இருப்போம்.இந ஆக்கத்துடன தொடர்புடைர்கள், உலகவிய பொதுப் பயனபாட்டுக்கு பதிப்புரமைச் சட்டததுக்கு உடட்டு, தங்கள் அனைத்துப பதிப்புரமைகளையும் விடுவித்துள்ளனர்.தமிழ், இந்தி உட்பட இலங்கை, சிங்கப்பூரில பேசப்படும் மொழிகளில் ஒன்ற.நிறைவுசெய்பவள என்று மொழிபெயர்க்கப்பட்டிருக்கும் (நீகெத்) என்ற எபிரெய சொல்லைக் குறித்த ஒரு பைபிள புலவர் இவ்வாற விளக்குகிறார்.தமிழ ஒலி சார்ந்த மொழி, அதன் பலமும் பலவீனமும், ஒவ்வொர பிரதேசத தமிழர்களின் உச்சரிப்பு வேறுபடம.\"\n",
    "]\n",
    "\n",
    "# Expected sentences for comparison\n",
    "expected_paragraph = [\n",
    "    \"நம்முடைய அன்றாட நற்செயல்கள் கடவுளுக்குப் புகழ் சேர்த்தால், உயரமான இடத்தில் வைக்கப்பட்ட தீபமாக இருப்போம்.இந்த ஆக்கத்துடன் தொடர்புடையவர்கள், உலகளளாவிய பொதுப் பயன்பாட்டுக்கு பதிப்புரிமைச் சட்டத்துக்கு உட்பட்டு, தங்கள் அனைத்துப் பதிப்புரிமைகளையும் விடுவித்துள்ளனர்.தமிழ், இந்தியா உட்பட இலங்கை, சிங்கப்பூரில் பேசப்படும் மொழிகளில் ஒன்று.நிறைவுசெய்பவள் என்று மொழிபெயர்க்கப்பட்டிருக்கும் (நீகெத்) என்ற எபிரெய சொல்லைக் குறித்து ஒரு பைபிள் புலவர் இவ்வாறு விளக்குகிறார்.தமிழ் ஒலி சார்ந்த மொழி, அதன் பலமும் பலவீனமும், ஒவ்வொரு பிரதேசத் தமிழர்களின் உச்சரிப்பு வேறுபடும்.\"\n",
    "]\n",
    "\n",
    "# Function to split the text into sentences\n",
    "def split_into_sentences(paragraphs):\n",
    "    return [para.rstrip(\".\").split(\".\") for para in paragraphs]\n",
    "\n",
    "# Split the test and expected paragraphs into sentences\n",
    "test_sentences = split_into_sentences(test_paragraphs_list)\n",
    "expected_sentences = split_into_sentences(expected_paragraph)\n",
    "\n",
    "# Loop through test paragraphs and perform spell/grammar correction\n",
    "for idx, test_sentences_group in enumerate(test_sentences):\n",
    "\n",
    "    for i, sentence in enumerate(test_sentences_group):\n",
    "        print(f\"\\nTest Sentence {i+1}: {sentence.strip()}\")\n",
    "\n",
    "        # Correct the test sentence using the SpellChecker\n",
    "        corrected_text = correct_text(sentence.strip(), correct_words_file)\n",
    "\n",
    "        # Output the corrected text\n",
    "        print(f\"Corrected Text: {corrected_text.strip()}\")\n",
    "\n",
    "        # Evaluate the spell checker against the expected result\n",
    "        print(\"\\n--- Evaluation Results ---\")\n",
    "\n",
    "        # Pass the individual sentences as arguments for evaluation\n",
    "        evaluate_spell_checker(\n",
    "            sentence.strip().split(), \n",
    "            expected_sentences[idx][i].strip().split(), \n",
    "            corrected_text.strip()\n",
    "        )"
   ]
  }
 ],
 "metadata": {
  "kernelspec": {
   "display_name": "Researchenv",
   "language": "python",
   "name": "python3"
  },
  "language_info": {
   "codemirror_mode": {
    "name": "ipython",
    "version": 3
   },
   "file_extension": ".py",
   "mimetype": "text/x-python",
   "name": "python",
   "nbconvert_exporter": "python",
   "pygments_lexer": "ipython3",
   "version": "3.10.13"
  }
 },
 "nbformat": 4,
 "nbformat_minor": 2
}
