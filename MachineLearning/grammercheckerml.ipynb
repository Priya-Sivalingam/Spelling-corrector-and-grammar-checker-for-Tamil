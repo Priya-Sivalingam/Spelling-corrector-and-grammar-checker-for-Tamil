{
 "cells": [
  {
   "cell_type": "code",
   "execution_count": 1,
   "metadata": {},
   "outputs": [],
   "source": [
    "import pandas as pd\n",
    "from sklearn.feature_extraction.text import CountVectorizer\n",
    "from sklearn.model_selection import train_test_split\n",
    "from sklearn.naive_bayes import MultinomialNB\n",
    "from sklearn.metrics import accuracy_score"
   ]
  },
  {
   "cell_type": "code",
   "execution_count": 2,
   "metadata": {},
   "outputs": [
    {
     "data": {
      "text/html": [
       "<div>\n",
       "<style scoped>\n",
       "    .dataframe tbody tr th:only-of-type {\n",
       "        vertical-align: middle;\n",
       "    }\n",
       "\n",
       "    .dataframe tbody tr th {\n",
       "        vertical-align: top;\n",
       "    }\n",
       "\n",
       "    .dataframe thead th {\n",
       "        text-align: right;\n",
       "    }\n",
       "</style>\n",
       "<table border=\"1\" class=\"dataframe\">\n",
       "  <thead>\n",
       "    <tr style=\"text-align: right;\">\n",
       "      <th></th>\n",
       "      <th>Serial Number</th>\n",
       "      <th>Error Type</th>\n",
       "      <th>Ungrammatical Statement</th>\n",
       "      <th>Standard Tamil</th>\n",
       "    </tr>\n",
       "  </thead>\n",
       "  <tbody>\n",
       "    <tr>\n",
       "      <th>0</th>\n",
       "      <td>0</td>\n",
       "      <td>error1</td>\n",
       "      <td>நான் நேற்று பாடம் படிக்கிறேன்.</td>\n",
       "      <td>நான் நேற்று பாடம் படித்தேன்.</td>\n",
       "    </tr>\n",
       "    <tr>\n",
       "      <th>1</th>\n",
       "      <td>1</td>\n",
       "      <td>error2</td>\n",
       "      <td>அவள் பள்ளிக்குச் சென்றான்.</td>\n",
       "      <td>அவள் பள்ளிக்குச் சென்றாள்.</td>\n",
       "    </tr>\n",
       "    <tr>\n",
       "      <th>2</th>\n",
       "      <td>2</td>\n",
       "      <td>error1</td>\n",
       "      <td>நான் நேற்று தோசை சாப்பிடுகிறேன்.</td>\n",
       "      <td>நான் நேற்று தோசை சாப்பிட்டேன்.</td>\n",
       "    </tr>\n",
       "    <tr>\n",
       "      <th>3</th>\n",
       "      <td>3</td>\n",
       "      <td>error1</td>\n",
       "      <td>அவன் இப்போது பள்ளிக்குச் சென்றான்.</td>\n",
       "      <td>அவன் இப்போது பள்ளிக்குச் செல்கிறான்.</td>\n",
       "    </tr>\n",
       "    <tr>\n",
       "      <th>4</th>\n",
       "      <td>4</td>\n",
       "      <td>error2</td>\n",
       "      <td>அவன் உணவு சாப்பிட்டாள்.</td>\n",
       "      <td>அவன் உணவு சாப்பிட்டான்.</td>\n",
       "    </tr>\n",
       "  </tbody>\n",
       "</table>\n",
       "</div>"
      ],
      "text/plain": [
       "   Serial Number Error Type             Ungrammatical Statement  \\\n",
       "0              0     error1      நான் நேற்று பாடம் படிக்கிறேன்.   \n",
       "1              1     error2          அவள் பள்ளிக்குச் சென்றான்.   \n",
       "2              2     error1    நான் நேற்று தோசை சாப்பிடுகிறேன்.   \n",
       "3              3     error1  அவன் இப்போது பள்ளிக்குச் சென்றான்.   \n",
       "4              4     error2             அவன் உணவு சாப்பிட்டாள்.   \n",
       "\n",
       "                         Standard Tamil  \n",
       "0          நான் நேற்று பாடம் படித்தேன்.  \n",
       "1            அவள் பள்ளிக்குச் சென்றாள்.  \n",
       "2        நான் நேற்று தோசை சாப்பிட்டேன்.  \n",
       "3  அவன் இப்போது பள்ளிக்குச் செல்கிறான்.  \n",
       "4               அவன் உணவு சாப்பிட்டான்.  "
      ]
     },
     "execution_count": 2,
     "metadata": {},
     "output_type": "execute_result"
    }
   ],
   "source": [
    "# Load the dataset\n",
    "df = pd.read_excel('../DeepLearning/tamildataset.xlsx')\n",
    "\n",
    "df.head()"
   ]
  },
  {
   "cell_type": "code",
   "execution_count": 3,
   "metadata": {},
   "outputs": [
    {
     "name": "stdout",
     "output_type": "stream",
     "text": [
      "Missing values in each column:\n",
      "Serial Number                0\n",
      "Error Type                   0\n",
      "Ungrammatical Statement    307\n",
      "Standard Tamil             307\n",
      "dtype: int64\n"
     ]
    }
   ],
   "source": [
    "# Check for missing values and drop them\n",
    "print(\"Missing values in each column:\")\n",
    "print(df.isnull().sum())\n",
    "df = df.dropna()\n"
   ]
  },
  {
   "cell_type": "code",
   "execution_count": 4,
   "metadata": {},
   "outputs": [],
   "source": [
    "# Split the data into features and target\n",
    "X = df['Ungrammatical Statement']  # Ungrammatical Tamil statements\n",
    "y = df['Standard Tamil']  # Corrected Tamil statements\n",
    "\n",
    "# Vectorize the input text using character n-grams\n",
    "vectorizer = CountVectorizer(ngram_range=(1, 2), analyzer='char', token_pattern=None)\n",
    "X_vectorized = vectorizer.fit_transform(X)\n",
    "\n",
    "# Split the data into training and testing sets\n",
    "X_train, X_test, y_train, y_test = train_test_split(X_vectorized, y, test_size=0.2, random_state=42)"
   ]
  },
  {
   "cell_type": "code",
   "execution_count": 5,
   "metadata": {},
   "outputs": [
    {
     "data": {
      "text/html": [
       "<style>#sk-container-id-1 {color: black;background-color: white;}#sk-container-id-1 pre{padding: 0;}#sk-container-id-1 div.sk-toggleable {background-color: white;}#sk-container-id-1 label.sk-toggleable__label {cursor: pointer;display: block;width: 100%;margin-bottom: 0;padding: 0.3em;box-sizing: border-box;text-align: center;}#sk-container-id-1 label.sk-toggleable__label-arrow:before {content: \"▸\";float: left;margin-right: 0.25em;color: #696969;}#sk-container-id-1 label.sk-toggleable__label-arrow:hover:before {color: black;}#sk-container-id-1 div.sk-estimator:hover label.sk-toggleable__label-arrow:before {color: black;}#sk-container-id-1 div.sk-toggleable__content {max-height: 0;max-width: 0;overflow: hidden;text-align: left;background-color: #f0f8ff;}#sk-container-id-1 div.sk-toggleable__content pre {margin: 0.2em;color: black;border-radius: 0.25em;background-color: #f0f8ff;}#sk-container-id-1 input.sk-toggleable__control:checked~div.sk-toggleable__content {max-height: 200px;max-width: 100%;overflow: auto;}#sk-container-id-1 input.sk-toggleable__control:checked~label.sk-toggleable__label-arrow:before {content: \"▾\";}#sk-container-id-1 div.sk-estimator input.sk-toggleable__control:checked~label.sk-toggleable__label {background-color: #d4ebff;}#sk-container-id-1 div.sk-label input.sk-toggleable__control:checked~label.sk-toggleable__label {background-color: #d4ebff;}#sk-container-id-1 input.sk-hidden--visually {border: 0;clip: rect(1px 1px 1px 1px);clip: rect(1px, 1px, 1px, 1px);height: 1px;margin: -1px;overflow: hidden;padding: 0;position: absolute;width: 1px;}#sk-container-id-1 div.sk-estimator {font-family: monospace;background-color: #f0f8ff;border: 1px dotted black;border-radius: 0.25em;box-sizing: border-box;margin-bottom: 0.5em;}#sk-container-id-1 div.sk-estimator:hover {background-color: #d4ebff;}#sk-container-id-1 div.sk-parallel-item::after {content: \"\";width: 100%;border-bottom: 1px solid gray;flex-grow: 1;}#sk-container-id-1 div.sk-label:hover label.sk-toggleable__label {background-color: #d4ebff;}#sk-container-id-1 div.sk-serial::before {content: \"\";position: absolute;border-left: 1px solid gray;box-sizing: border-box;top: 0;bottom: 0;left: 50%;z-index: 0;}#sk-container-id-1 div.sk-serial {display: flex;flex-direction: column;align-items: center;background-color: white;padding-right: 0.2em;padding-left: 0.2em;position: relative;}#sk-container-id-1 div.sk-item {position: relative;z-index: 1;}#sk-container-id-1 div.sk-parallel {display: flex;align-items: stretch;justify-content: center;background-color: white;position: relative;}#sk-container-id-1 div.sk-item::before, #sk-container-id-1 div.sk-parallel-item::before {content: \"\";position: absolute;border-left: 1px solid gray;box-sizing: border-box;top: 0;bottom: 0;left: 50%;z-index: -1;}#sk-container-id-1 div.sk-parallel-item {display: flex;flex-direction: column;z-index: 1;position: relative;background-color: white;}#sk-container-id-1 div.sk-parallel-item:first-child::after {align-self: flex-end;width: 50%;}#sk-container-id-1 div.sk-parallel-item:last-child::after {align-self: flex-start;width: 50%;}#sk-container-id-1 div.sk-parallel-item:only-child::after {width: 0;}#sk-container-id-1 div.sk-dashed-wrapped {border: 1px dashed gray;margin: 0 0.4em 0.5em 0.4em;box-sizing: border-box;padding-bottom: 0.4em;background-color: white;}#sk-container-id-1 div.sk-label label {font-family: monospace;font-weight: bold;display: inline-block;line-height: 1.2em;}#sk-container-id-1 div.sk-label-container {text-align: center;}#sk-container-id-1 div.sk-container {/* jupyter's `normalize.less` sets `[hidden] { display: none; }` but bootstrap.min.css set `[hidden] { display: none !important; }` so we also need the `!important` here to be able to override the default hidden behavior on the sphinx rendered scikit-learn.org. See: https://github.com/scikit-learn/scikit-learn/issues/21755 */display: inline-block !important;position: relative;}#sk-container-id-1 div.sk-text-repr-fallback {display: none;}</style><div id=\"sk-container-id-1\" class=\"sk-top-container\"><div class=\"sk-text-repr-fallback\"><pre>MultinomialNB()</pre><b>In a Jupyter environment, please rerun this cell to show the HTML representation or trust the notebook. <br />On GitHub, the HTML representation is unable to render, please try loading this page with nbviewer.org.</b></div><div class=\"sk-container\" hidden><div class=\"sk-item\"><div class=\"sk-estimator sk-toggleable\"><input class=\"sk-toggleable__control sk-hidden--visually\" id=\"sk-estimator-id-1\" type=\"checkbox\" checked><label for=\"sk-estimator-id-1\" class=\"sk-toggleable__label sk-toggleable__label-arrow\">MultinomialNB</label><div class=\"sk-toggleable__content\"><pre>MultinomialNB()</pre></div></div></div></div></div>"
      ],
      "text/plain": [
       "MultinomialNB()"
      ]
     },
     "execution_count": 5,
     "metadata": {},
     "output_type": "execute_result"
    }
   ],
   "source": [
    "# Initialize and train the model\n",
    "model = MultinomialNB()\n",
    "model.fit(X_train, y_train)"
   ]
  },
  {
   "cell_type": "code",
   "execution_count": 6,
   "metadata": {},
   "outputs": [
    {
     "name": "stdout",
     "output_type": "stream",
     "text": [
      "Model Accuracy: 38.46%\n"
     ]
    }
   ],
   "source": [
    "# Make predictions on the test set\n",
    "y_pred = model.predict(X_test)\n",
    "\n",
    "# Evaluate the model's accuracy\n",
    "accuracy = accuracy_score(y_test, y_pred)\n",
    "print(f\"Model Accuracy: {accuracy * 100:.2f}%\")"
   ]
  },
  {
   "cell_type": "code",
   "execution_count": 10,
   "metadata": {},
   "outputs": [
    {
     "name": "stdout",
     "output_type": "stream",
     "text": [
      "Classification Report:\n",
      "                                        precision    recall  f1-score   support\n",
      "\n",
      "                        அவன் அழகானவன்.       1.00      1.00      1.00         1\n",
      "    அவன் கடையில் பொருட்கள் வாங்கினான்.       0.00      0.00      0.00         0\n",
      "                  அவன் கதை சொல்லினான்.       0.00      0.00      0.00         1\n",
      "              அவன் சைக்கிள் ஓட்டினான்.       0.00      0.00      0.00         1\n",
      "                 அவன் தன்னை அழைத்தான்.       1.00      1.00      1.00         1\n",
      "                அவன் தன்னை பார்த்தான்.       1.00      1.00      1.00         1\n",
      "                   அவன் நடனம் ஆடினான்.       0.00      0.00      0.00         0\n",
      "               அவன் பாடம் படிக்கிறான்.       1.00      1.00      1.00         1\n",
      "                   அவன் வேலை செய்தான்.       0.00      0.00      0.00         1\n",
      "    அவள் கடையில் பொருட்கள் வாங்கினாள்.       0.00      0.00      0.00         1\n",
      "                    அவள் கதை சொன்னான்.       0.00      0.00      0.00         1\n",
      "                  அவள் கதை சொல்லினாள்.       0.33      1.00      0.50         1\n",
      "             அவள் சினிமா பார்க்கிறாள்.       0.00      0.00      0.00         1\n",
      "                   அவள் நடனம் ஆடினாள்.       0.00      0.00      0.00         1\n",
      "            அவள் நேற்று வேலை செய்தாள்.       0.00      0.00      0.00         1\n",
      "                  அவள் பல் தேய்ப்பாள்.       0.00      0.00      0.00         1\n",
      "               அவள் பாடம் படிக்கிறாள்.       0.20      1.00      0.33         1\n",
      "                 அவள் பாடம் படித்தாள்.       0.50      1.00      0.67         1\n",
      "              அவள் புத்தகம் படித்தாள்.       0.00      0.00      0.00         1\n",
      "              அவள் மழையில் நடக்கிறாள்.       0.00      0.00      0.00         1\n",
      "                   அவள் வேலை செய்தாள்.       0.00      0.00      0.00         0\n",
      "              நான் இன்று சாப்பிட்டேன்.       0.50      1.00      0.67         1\n",
      "          நான் இன்று பள்ளிக்கு போனேன்.       0.00      0.00      0.00         1\n",
      "             நான் இன்று வீடு சென்றேன்.       0.00      0.00      0.00         1\n",
      "       நான் இப்போது பாடம் படிக்கிறேன்.       0.00      0.00      0.00         1\n",
      "         நான் இப்போது பாடம் படித்தேன்.       0.00      0.00      0.00         1\n",
      "    நான் என் பாடத்தை முடித்துவிட்டேன்.       0.00      0.00      0.00         1\n",
      "நான் தினமும் காலை உணவு சாப்பிடுகிறேன்.       0.00      0.00      0.00         1\n",
      " நான் தினமும் காலையில் பல் தேய்கிறேன்.       0.00      0.00      0.00         1\n",
      "               நான் நாளை கதை சொன்னேன்.       0.00      0.00      0.00         0\n",
      "           நான் நாளை பள்ளிக்கு போனேன்.       0.50      1.00      0.67         1\n",
      "            நான் நாளை பாடம் படித்தேன்.       0.00      0.00      0.00         2\n",
      "            நான் நாளை பாடம் படிப்பேன்.       0.17      1.00      0.29         1\n",
      "               நான் நாளை விளையாடினேன்.       0.00      0.00      0.00         1\n",
      "               நான் நாளை விளையாடுவேன்.       0.50      1.00      0.67         1\n",
      "              நான் நாளை வீடு சென்றேன்.       0.00      0.00      0.00         0\n",
      "              நான் நாளை வேலை செய்தேன்.       0.00      0.00      0.00         1\n",
      "              நான் நாளை வேலை செய்வேன்.       0.00      0.00      0.00         0\n",
      "             நான் நேற்று கதை சொன்னேன்.       0.00      0.00      0.00         1\n",
      "          நான் நேற்று பாடம் படித்தேன்.       0.50      1.00      0.67         2\n",
      "   நான் நேற்று ரெஸ்டாரண்டுக்கு போனேன்.       0.00      0.00      0.00         1\n",
      "             நான் நேற்று விளையாடினேன்.       1.00      1.00      1.00         1\n",
      "            நான் நேற்று வேலை செய்தேன்.       1.00      1.00      1.00         1\n",
      "\n",
      "                              accuracy                           0.38        39\n",
      "                             macro avg       0.21      0.33      0.24        39\n",
      "                          weighted avg       0.25      0.38      0.29        39\n",
      "\n"
     ]
    },
    {
     "name": "stderr",
     "output_type": "stream",
     "text": [
      "c:\\Users\\Q50\\anaconda3\\envs\\Researchenv\\lib\\site-packages\\sklearn\\metrics\\_classification.py:1334: UndefinedMetricWarning: Precision and F-score are ill-defined and being set to 0.0 in labels with no predicted samples. Use `zero_division` parameter to control this behavior.\n",
      "  _warn_prf(average, modifier, msg_start, len(result))\n",
      "c:\\Users\\Q50\\anaconda3\\envs\\Researchenv\\lib\\site-packages\\sklearn\\metrics\\_classification.py:1334: UndefinedMetricWarning: Recall and F-score are ill-defined and being set to 0.0 in labels with no true samples. Use `zero_division` parameter to control this behavior.\n",
      "  _warn_prf(average, modifier, msg_start, len(result))\n",
      "c:\\Users\\Q50\\anaconda3\\envs\\Researchenv\\lib\\site-packages\\sklearn\\metrics\\_classification.py:1334: UndefinedMetricWarning: Precision and F-score are ill-defined and being set to 0.0 in labels with no predicted samples. Use `zero_division` parameter to control this behavior.\n",
      "  _warn_prf(average, modifier, msg_start, len(result))\n",
      "c:\\Users\\Q50\\anaconda3\\envs\\Researchenv\\lib\\site-packages\\sklearn\\metrics\\_classification.py:1334: UndefinedMetricWarning: Recall and F-score are ill-defined and being set to 0.0 in labels with no true samples. Use `zero_division` parameter to control this behavior.\n",
      "  _warn_prf(average, modifier, msg_start, len(result))\n",
      "c:\\Users\\Q50\\anaconda3\\envs\\Researchenv\\lib\\site-packages\\sklearn\\metrics\\_classification.py:1334: UndefinedMetricWarning: Precision and F-score are ill-defined and being set to 0.0 in labels with no predicted samples. Use `zero_division` parameter to control this behavior.\n",
      "  _warn_prf(average, modifier, msg_start, len(result))\n",
      "c:\\Users\\Q50\\anaconda3\\envs\\Researchenv\\lib\\site-packages\\sklearn\\metrics\\_classification.py:1334: UndefinedMetricWarning: Recall and F-score are ill-defined and being set to 0.0 in labels with no true samples. Use `zero_division` parameter to control this behavior.\n",
      "  _warn_prf(average, modifier, msg_start, len(result))\n"
     ]
    }
   ],
   "source": [
    "from sklearn.metrics import classification_report\n",
    "\n",
    "# Generate the classification report\n",
    "report = classification_report(y_test, y_pred)\n",
    "print(\"Classification Report:\")\n",
    "print(report)"
   ]
  },
  {
   "cell_type": "code",
   "execution_count": 8,
   "metadata": {},
   "outputs": [
    {
     "name": "stdout",
     "output_type": "stream",
     "text": [
      "Ungrammatical Sentence: நான் நேற்று தோசை சாப்பிடுகிறேன்.\n",
      "Predicted Standard Tamil: நான் நேற்று பாடம் படித்தேன்.\n"
     ]
    }
   ],
   "source": [
    "# Test the model with a new sentence\n",
    "test_sentence = [\"நான் நேற்று தோசை சாப்பிடுகிறேன்.\"]  # \"நான் நேற்று தோசை சாப்பிடுகிறேன்.\"\n",
    "test_vector = vectorizer.transform(test_sentence)\n",
    "predicted = model.predict(test_vector)\n",
    "\n",
    "# Display the result\n",
    "print(\"Ungrammatical Sentence:\", test_sentence[0])\n",
    "print(\"Predicted Standard Tamil:\", predicted[0])"
   ]
  },
  {
   "cell_type": "code",
   "execution_count": 11,
   "metadata": {},
   "outputs": [
    {
     "name": "stdout",
     "output_type": "stream",
     "text": [
      "Ungrammatical Sentence: அவள் கதை சொன்னான்.\n",
      "Predicted Standard Tamil: அவள் கதை சொல்லினாள்.\n"
     ]
    }
   ],
   "source": [
    "# Test the model with a new sentence\n",
    "test_sentence = [\"அவள் கதை சொன்னான்.\"]  \n",
    "test_vector = vectorizer.transform(test_sentence)\n",
    "predicted = model.predict(test_vector)\n",
    "\n",
    "# Display the result\n",
    "print(\"Ungrammatical Sentence:\", test_sentence[0])\n",
    "print(\"Predicted Standard Tamil:\", predicted[0])"
   ]
  },
  {
   "cell_type": "code",
   "execution_count": 12,
   "metadata": {},
   "outputs": [
    {
     "name": "stdout",
     "output_type": "stream",
     "text": [
      "Ungrammatical Sentence: அவன் நடனம் ஆடினாள்.\n",
      "Predicted Standard Tamil: அவன் நடனம் ஆடினான்.\n"
     ]
    }
   ],
   "source": [
    "# Test the model with a new sentence\n",
    "test_sentence = [\"அவன் நடனம் ஆடினாள்.\"]  \n",
    "test_vector = vectorizer.transform(test_sentence)\n",
    "predicted = model.predict(test_vector)\n",
    "\n",
    "# Display the result\n",
    "print(\"Ungrammatical Sentence:\", test_sentence[0])\n",
    "print(\"Predicted Standard Tamil:\", predicted[0])"
   ]
  },
  {
   "cell_type": "code",
   "execution_count": 14,
   "metadata": {},
   "outputs": [
    {
     "name": "stdout",
     "output_type": "stream",
     "text": [
      "Ungrammatical Sentence: அவள் பாடம் படித்தான்.\n",
      "Predicted Standard Tamil: அவள் பாடம் படித்தாள்.\n"
     ]
    }
   ],
   "source": [
    "# Test the model with a new sentence\n",
    "test_sentence = [\"அவள் பாடம் படித்தான்.\"]  \n",
    "test_vector = vectorizer.transform(test_sentence)\n",
    "predicted = model.predict(test_vector)\n",
    "\n",
    "# Display the result\n",
    "print(\"Ungrammatical Sentence:\", test_sentence[0])\n",
    "print(\"Predicted Standard Tamil:\", predicted[0])"
   ]
  },
  {
   "cell_type": "code",
   "execution_count": 15,
   "metadata": {},
   "outputs": [
    {
     "name": "stdout",
     "output_type": "stream",
     "text": [
      "Ungrammatical Sentence: அவன் அழகானவள்.\n",
      "Predicted Standard Tamil: அவன் அழகானவன்.\n"
     ]
    }
   ],
   "source": [
    "# Test the model with a new sentence\n",
    "test_sentence = [\"அவன் அழகானவள்.\"]  \n",
    "test_vector = vectorizer.transform(test_sentence)\n",
    "predicted = model.predict(test_vector)\n",
    "\n",
    "# Display the result\n",
    "print(\"Ungrammatical Sentence:\", test_sentence[0])\n",
    "print(\"Predicted Standard Tamil:\", predicted[0])"
   ]
  }
 ],
 "metadata": {
  "kernelspec": {
   "display_name": "Researchenv",
   "language": "python",
   "name": "python3"
  },
  "language_info": {
   "codemirror_mode": {
    "name": "ipython",
    "version": 3
   },
   "file_extension": ".py",
   "mimetype": "text/x-python",
   "name": "python",
   "nbconvert_exporter": "python",
   "pygments_lexer": "ipython3",
   "version": "3.10.13"
  }
 },
 "nbformat": 4,
 "nbformat_minor": 2
}
